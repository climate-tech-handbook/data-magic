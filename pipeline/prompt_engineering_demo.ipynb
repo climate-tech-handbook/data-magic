{
 "cells": [
  {
   "cell_type": "markdown",
   "id": "c55f4e2e",
   "metadata": {},
   "source": [
    "# Prompt Engineering Demo\n",
    "#### mainly just to ensure environment and dependencies are set up properly."
   ]
  },
  {
   "cell_type": "code",
   "execution_count": 75,
   "id": "184c7c0c",
   "metadata": {},
   "outputs": [],
   "source": [
    "import os\n",
    "import openai\n",
    "from dotenv import load_dotenv\n",
    "import IPython.display as ipd"
   ]
  },
  {
   "cell_type": "code",
   "execution_count": 76,
   "id": "3c24a3b3",
   "metadata": {},
   "outputs": [],
   "source": [
    "load_dotenv()\n",
    "\n",
    "openai.api_key = os.getenv(\"OPENAI_API_KEY\")"
   ]
  },
  {
   "cell_type": "code",
   "execution_count": 77,
   "id": "2276e3d0",
   "metadata": {},
   "outputs": [],
   "source": [
    "def set_params(\n",
    "    model=\"text-davinci-003\",\n",
    "    temperature=0.7,\n",
    "    max_tokens=256,\n",
    "    top_p=1,\n",
    "    frequency_penalty=0,\n",
    "    presence_penalty=0,\n",
    "):\n",
    "    \"\"\" Sets OpenAPI parameters.\n",
    "    Args: \n",
    "        model: string identifier of OpenAI model.\n",
    "        temperature: model's propensity for deterministic results.\n",
    "        max_tokens: maximum number of output tokens.\n",
    "        top_p: alternative sampling to temperature, where the model considers the results of the tokens with top_p probability mass.\n",
    "        frequency_penalty: [-2:2] positive values punish new tokens based on their existing frequency, decreasing likelihood to repeat statements.\n",
    "        presence_penalty: [-2:2] positive values punish new tokens based on whether they appear in the text so far, increasing likelihood to talk about new topics.\n",
    "    Returns:\n",
    "        openai_params: dictionary object containing model parameters.\n",
    "    \"\"\"\n",
    "    \n",
    "    openai_params = {}\n",
    "    \n",
    "    openai_params['model'] = model\n",
    "    openai_params['temperature'] = temperature\n",
    "    openai_params['max_tokens'] = max_tokens\n",
    "    openai_params['top_p'] = top_p\n",
    "    openai_params['frequency_penalty'] = frequency_penalty\n",
    "    openai_params['presence_penalty'] = presence_penalty\n",
    "    return openai_params\n",
    "    \n",
    "    "
   ]
  },
  {
   "cell_type": "code",
   "execution_count": 78,
   "id": "4df0f5f1",
   "metadata": {},
   "outputs": [],
   "source": [
    "def get_completion(params, prompt):\n",
    "    \"\"\"\n",
    "    Sends API request and recieves completion output.\n",
    "    \n",
    "    Args:\n",
    "        params: dictionary object containing model parameters\n",
    "        prompt: string containing text for model to use for generating output.\n",
    "    Returns:\n",
    "        response: json object containing API response.\n",
    "    \"\"\"\n",
    "    \n",
    "    response = openai.Completion.create(\n",
    "        engine = params['model'],\n",
    "        prompt = prompt,\n",
    "        temperature = params['temperature'],\n",
    "        max_tokens = params['max_tokens'],\n",
    "        top_p = params['top_p'],\n",
    "        frequency_penalty = params['frequency_penalty'],\n",
    "        presence_penalty = params['presence_penalty'],\n",
    "    )\n",
    "    return response"
   ]
  },
  {
   "cell_type": "markdown",
   "id": "c1df2950",
   "metadata": {},
   "source": [
    "# Basic Prompting Techniques\n",
    "#### completion, summarization, and question answering"
   ]
  },
  {
   "cell_type": "markdown",
   "id": "da051d82",
   "metadata": {},
   "source": [
    "### Text Completion"
   ]
  },
  {
   "cell_type": "code",
   "execution_count": 79,
   "id": "2b4708f3",
   "metadata": {},
   "outputs": [],
   "source": [
    "params = set_params(temperature=0)\n",
    "\n",
    "prompt = \"Climate change is\"\n",
    "\n",
    "response = get_completion(params, prompt)"
   ]
  },
  {
   "cell_type": "code",
   "execution_count": 80,
   "id": "ed2f079d",
   "metadata": {},
   "outputs": [
    {
     "data": {
      "text/markdown": [
       " the long-term alteration in average global temperatures and weather patterns due to the increased levels of carbon dioxide and other pollutants in the atmosphere. This is caused by human activities such as burning fossil fuels, deforestation, and agricultural practices. Climate change has a wide range of impacts on the environment, including rising sea levels, extreme weather events, and changes in the availability of water and food. It also has serious implications for human health, economic development, and social stability."
      ],
      "text/plain": [
       "<IPython.core.display.Markdown object>"
      ]
     },
     "execution_count": 80,
     "metadata": {},
     "output_type": "execute_result"
    }
   ],
   "source": [
    "text = response.choices[0].text\n",
    "\n",
    "ipd.Markdown(text)"
   ]
  },
  {
   "cell_type": "markdown",
   "id": "74f2fa79",
   "metadata": {},
   "source": [
    "### Text Summarization"
   ]
  },
  {
   "cell_type": "code",
   "execution_count": 81,
   "id": "707de66f",
   "metadata": {},
   "outputs": [],
   "source": [
    "params = set_params(temperature=0.7)\n",
    "\n",
    "prompt = \"\"\"Climate change is the long-term alteration in average global temperatures and weather patterns due to the increased levels of carbon dioxide and other greenhouse gases in the atmosphere. This is caused by human activities such as burning fossil fuels, deforestation, and industrial processes. Climate change is having a significant impact on the environment, including rising sea levels, extreme weather events, and changes in the availability of water and food. It is also having an impact on human health, with increased risks of heat-related illnesses, air pollution, and vector-borne diseases.\n",
    "\n",
    "Explain the above in one sentence:\n",
    "\"\"\"\n",
    "\n",
    "response = get_completion(params, prompt)"
   ]
  },
  {
   "cell_type": "code",
   "execution_count": 82,
   "id": "7031a298",
   "metadata": {},
   "outputs": [
    {
     "data": {
      "text/markdown": [
       "Climate change is the result of human activities such as burning fossil fuels, deforestation, and industrial processes, causing long-term alterations in global temperatures, weather patterns, and other environmental factors, which can have negative impacts on human health."
      ],
      "text/plain": [
       "<IPython.core.display.Markdown object>"
      ]
     },
     "execution_count": 82,
     "metadata": {},
     "output_type": "execute_result"
    }
   ],
   "source": [
    "text = response.choices[0].text\n",
    "\n",
    "ipd.Markdown(text)"
   ]
  },
  {
   "cell_type": "markdown",
   "id": "07d20c1d",
   "metadata": {},
   "source": [
    "### Question Answering"
   ]
  },
  {
   "cell_type": "code",
   "execution_count": 83,
   "id": "c7ade6e2",
   "metadata": {},
   "outputs": [],
   "source": [
    "params = set_params(temperature=0.7)\n",
    "\n",
    "prompt = \"\"\"Answer the question based on the context below. Keep the answer concise.\n",
    "\n",
    "Context: One of the key lessons that has been learned in the development and implementation of Net Zero Buildings is the importance of energy efficiency. It is estimated that buildings account for approximately 40% of the world’s energy use, so increasing the energy efficiency of buildings is a critical step in reversing climate change. There are a variety of ways to increase the energy efficiency of buildings, including using energy-efficient appliances and lighting, insulating the building, and using natural ventilation.\n",
    "\n",
    "Question: What is the single most effective way at creating energy efficient buildings?\n",
    "\n",
    "Answer:\n",
    "\"\"\"\n",
    "\n",
    "response = get_completion(params, prompt)"
   ]
  },
  {
   "cell_type": "code",
   "execution_count": 84,
   "id": "f57451fc",
   "metadata": {},
   "outputs": [
    {
     "data": {
      "text/markdown": [
       "Insulating the building."
      ],
      "text/plain": [
       "<IPython.core.display.Markdown object>"
      ]
     },
     "execution_count": 84,
     "metadata": {},
     "output_type": "execute_result"
    }
   ],
   "source": [
    "text = response.choices[0].text\n",
    "\n",
    "ipd.Markdown(text)"
   ]
  }
 ],
 "metadata": {
  "kernelspec": {
   "display_name": "Python 3 (ipykernel)",
   "language": "python",
   "name": "python3"
  },
  "language_info": {
   "codemirror_mode": {
    "name": "ipython",
    "version": 3
   },
   "file_extension": ".py",
   "mimetype": "text/x-python",
   "name": "python",
   "nbconvert_exporter": "python",
   "pygments_lexer": "ipython3",
   "version": "3.11.3"
  }
 },
 "nbformat": 4,
 "nbformat_minor": 5
}
