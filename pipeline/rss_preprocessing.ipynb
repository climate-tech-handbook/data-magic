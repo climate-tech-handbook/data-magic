{
 "cells": [
  {
   "cell_type": "code",
   "execution_count": 15,
   "id": "d5f69070",
   "metadata": {},
   "outputs": [
    {
     "data": {
      "text/plain": [
       "True"
      ]
     },
     "execution_count": 15,
     "metadata": {},
     "output_type": "execute_result"
    }
   ],
   "source": [
    "import os\n",
    "from dotenv import load_dotenv\n",
    "\n",
    "load_dotenv()"
   ]
  },
  {
   "cell_type": "code",
   "execution_count": 41,
   "id": "2dcec3b6",
   "metadata": {},
   "outputs": [
    {
     "data": {
      "text/plain": [
       "['https://grist.org/feed/',\n",
       " 'https://arstechnica.com/tag/climate-change/feed/',\n",
       " 'https://www.desmog.com/feed/',\n",
       " 'https://techcrunch.com/tag/climate-tech/feed/',\n",
       " 'https://www.greenbuildingadvisor.com/feed',\n",
       " 'https://www.sciencedaily.com/rss/earth_climate.xml']"
      ]
     },
     "execution_count": 41,
     "metadata": {},
     "output_type": "execute_result"
    }
   ],
   "source": [
    "# open rss feeds\n",
    "with open('feeds/feeds.dat', 'r') as f:\n",
    "    feeds = f.readlines()\n",
    "\n",
    "for idx, feed in enumerate(feeds):\n",
    "    feeds[idx] = feed.rstrip()\n",
    "feeds"
   ]
  },
  {
   "cell_type": "code",
   "execution_count": 43,
   "id": "b3d6324f",
   "metadata": {},
   "outputs": [],
   "source": [
    "from llama_index import GPTVectorStoreIndex, SimpleDirectoryReader\n",
    "from llama_index import download_loader\n",
    "\n",
    "loader = download_loader(\"RssReader\")\n",
    "reader = loader()\n",
    "\n",
    "documents = reader.load_data(feeds)\n",
    "index = GPTVectorStoreIndex.from_documents(documents)"
   ]
  },
  {
   "cell_type": "code",
   "execution_count": 46,
   "id": "54b4a2f2",
   "metadata": {},
   "outputs": [
    {
     "data": {
      "text/plain": [
       "'\\nGrist is an online magazine that publishes stories about environmental issues and sustainability. They cover topics such as climate change, renewable energy, sustainable transportation, and social justice.'"
      ]
     },
     "execution_count": 46,
     "metadata": {},
     "output_type": "execute_result"
    }
   ],
   "source": [
    "query_engine = index.as_query_engine()\n",
    "query_engine.query(\"What does the Grist organization do?\").response"
   ]
  },
  {
   "cell_type": "code",
   "execution_count": null,
   "id": "690ba1bc",
   "metadata": {},
   "outputs": [],
   "source": []
  }
 ],
 "metadata": {
  "kernelspec": {
   "display_name": "Python 3 (ipykernel)",
   "language": "python",
   "name": "python3"
  },
  "language_info": {
   "codemirror_mode": {
    "name": "ipython",
    "version": 3
   },
   "file_extension": ".py",
   "mimetype": "text/x-python",
   "name": "python",
   "nbconvert_exporter": "python",
   "pygments_lexer": "ipython3",
   "version": "3.11.3"
  }
 },
 "nbformat": 4,
 "nbformat_minor": 5
}
